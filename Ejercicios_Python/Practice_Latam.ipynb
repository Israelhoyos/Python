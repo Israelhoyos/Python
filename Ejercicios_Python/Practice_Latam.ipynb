{
 "cells": [
  {
   "cell_type": "markdown",
   "id": "f5040311-74e8-437b-ad74-121047398ff8",
   "metadata": {},
   "source": [
    "Crea un programa que tome una cadena de texto y cuente la cantidad de veces que aparece cada palabra en la cadena. \n",
    "Utiliza un diccionario para almacenar los conteos"
   ]
  },
  {
   "cell_type": "code",
   "execution_count": 2,
   "id": "b00d221a-99bb-408e-86ca-4ea0bbe19ed0",
   "metadata": {},
   "outputs": [
    {
     "name": "stdout",
     "output_type": "stream",
     "text": [
      "{'En': 1, 'un': 2, 'lugar': 1, 'de': 2, 'la': 1, 'Mancha,': 1, 'cuyo': 1, 'nombre': 1, 'no': 2, 'quiero': 1, 'acodarme,': 1, 'ha': 1, 'mucho': 1, 'tiempo': 1, 'que': 1, 'vivía': 1, 'hidalgo': 1}\n"
     ]
    }
   ],
   "source": [
    "texto=\"En un lugar de la Mancha, de cuyo nombre no quiero acodarme, no ha mucho tiempo que vivía un hidalgo\"\n",
    "\n",
    "conteo = {}\n",
    "palabras = texto.split()\n",
    "for palabra in palabras:\n",
    "    if palabra in conteo:\n",
    "        conteo[palabra] += 1\n",
    "    else:\n",
    "        conteo[palabra] = 1\n",
    "print(conteo)"
   ]
  },
  {
   "cell_type": "markdown",
   "id": "c45823e1-4886-4920-9b0c-6be2ab322f75",
   "metadata": {},
   "source": [
    "Crear programa que pregunte al usuario por un número y muestre la tabla de multiplicar correspondiente.\n",
    "El programa seguirá pidiendo números hasta que el usuario ingrese un número negativo."
   ]
  },
  {
   "cell_type": "code",
   "execution_count": 3,
   "id": "75762a16-666b-4a23-8584-aaff441fd043",
   "metadata": {},
   "outputs": [
    {
     "name": "stdin",
     "output_type": "stream",
     "text": [
      "Ingresa un número (negativo para salir):  5\n"
     ]
    },
    {
     "name": "stdout",
     "output_type": "stream",
     "text": [
      "Tabla de multiplicar del 5:\n",
      "5 x 1 = 5\n",
      "5 x 2 = 10\n",
      "5 x 3 = 15\n",
      "5 x 4 = 20\n",
      "5 x 5 = 25\n",
      "5 x 6 = 30\n",
      "5 x 7 = 35\n",
      "5 x 8 = 40\n",
      "5 x 9 = 45\n",
      "5 x 10 = 50\n"
     ]
    },
    {
     "name": "stdin",
     "output_type": "stream",
     "text": [
      "Ingresa un número (negativo para salir):  9\n"
     ]
    },
    {
     "name": "stdout",
     "output_type": "stream",
     "text": [
      "Tabla de multiplicar del 9:\n",
      "9 x 1 = 9\n",
      "9 x 2 = 18\n",
      "9 x 3 = 27\n",
      "9 x 4 = 36\n",
      "9 x 5 = 45\n",
      "9 x 6 = 54\n",
      "9 x 7 = 63\n",
      "9 x 8 = 72\n",
      "9 x 9 = 81\n",
      "9 x 10 = 90\n"
     ]
    },
    {
     "name": "stdin",
     "output_type": "stream",
     "text": [
      "Ingresa un número (negativo para salir):  0\n"
     ]
    },
    {
     "name": "stdout",
     "output_type": "stream",
     "text": [
      "Tabla de multiplicar del 0:\n",
      "0 x 1 = 0\n",
      "0 x 2 = 0\n",
      "0 x 3 = 0\n",
      "0 x 4 = 0\n",
      "0 x 5 = 0\n",
      "0 x 6 = 0\n",
      "0 x 7 = 0\n",
      "0 x 8 = 0\n",
      "0 x 9 = 0\n",
      "0 x 10 = 0\n"
     ]
    },
    {
     "name": "stdin",
     "output_type": "stream",
     "text": [
      "Ingresa un número (negativo para salir):  -7\n"
     ]
    },
    {
     "name": "stdout",
     "output_type": "stream",
     "text": [
      "Adios, hasta la próxima\n"
     ]
    }
   ],
   "source": [
    "while True:\n",
    "    num = int(input(\"Ingresa un número (negativo para salir): \"))\n",
    "    if num < 0:\n",
    "        print(\"Adios, hasta la próxima\")\n",
    "        break\n",
    "    print(f\"Tabla de multiplicar del {num}:\")\n",
    "    for i in range(1,11):\n",
    "        print(f\"{num} x {i} = {num*i}\")"
   ]
  },
  {
   "cell_type": "markdown",
   "id": "ec3a40e6-aee1-4211-b5c4-80001953f390",
   "metadata": {},
   "source": [
    "Los datos se encuentran almacenados en una lista de diccionarios, donde cada dicccionario representa los datos de un paciente y contiene las claves.\n",
    "El médico desea saber cuál es el promedio de edad, peso, altura, presión y temperatura de los pacientes."
   ]
  },
  {
   "cell_type": "code",
   "execution_count": 5,
   "id": "d54ce79a-bad8-4936-8dda-f878f1c5ad0f",
   "metadata": {
    "jp-MarkdownHeadingCollapsed": true
   },
   "outputs": [
    {
     "name": "stdout",
     "output_type": "stream",
     "text": [
      "Promedio de edad: 28.75\n",
      "Proemdio de peso: 77.25\n",
      "Promedio de altura: 1.72\n",
      "Promedio de temperatura: 36.25\n"
     ]
    }
   ],
   "source": [
    "pacientes = [{'nombre':'Juan','edad': 30, 'peso': 80, 'altura': 1.75, 'temperatura': 36.5},\n",
    "            {'nombre':'María','edad': 31, 'peso': 70, 'altura': 1.70, 'temperatura': 35.5},\n",
    "            {'nombre':'Pedro','edad': 29, 'peso': 90, 'altura': 1.71, 'temperatura': 34.5},\n",
    "            {'nombre':'Alex','edad': 25, 'peso': 69, 'altura': 1.72, 'temperatura': 38.5}]\n",
    "\n",
    "#Promedio de edad\n",
    "edad_promedio = sum([paciente['edad'] for paciente in pacientes]) / len(pacientes)\n",
    "\n",
    "#Promedio de peso\n",
    "peso_promedio = sum([paciente['peso'] for paciente in pacientes]) / len(pacientes)\n",
    "\n",
    "#Promedio de altura\n",
    "altura_promedio = sum([paciente['altura'] for paciente in pacientes]) / len(pacientes)\n",
    "\n",
    "#Promedio de temperatiura\n",
    "temperatura_promedio = sum([paciente['temperatura'] for paciente in pacientes]) / len(pacientes)\n",
    "\n",
    "#RESULTADOS\n",
    "print(f\"Promedio de edad: {edad_promedio}\")\n",
    "print(f\"Proemdio de peso: {peso_promedio}\")\n",
    "print(f\"Promedio de altura: {altura_promedio}\")\n",
    "print(f\"Promedio de temperatura: {temperatura_promedio}\")\n"
   ]
  },
  {
   "cell_type": "markdown",
   "id": "fbfacab1-6ae1-40ac-adbd-e7e2ac7c0703",
   "metadata": {},
   "source": [
    "Programa interactivo que permita elegir entre la Luna y Marte y luego seleccionar entre caminata espacial o pilotar"
   ]
  },
  {
   "cell_type": "code",
   "execution_count": 8,
   "id": "3829ccbc-041e-4581-8218-0dd176bb7d67",
   "metadata": {},
   "outputs": [
    {
     "name": "stdin",
     "output_type": "stream",
     "text": [
      "Quieres viajar a la Luna o a Marte?:  Marte\n",
      "Quieres caminar por Marte? pilotar\n"
     ]
    },
    {
     "name": "stdout",
     "output_type": "stream",
     "text": [
      "A pilotar por Marte\n"
     ]
    }
   ],
   "source": [
    "destino = input(\"Quieres viajar a la Luna o a Marte?: \")\n",
    "\n",
    "if destino == \"Luna\":\n",
    "    actividad = input(\"Quieres caminar o pilotar en la Luna?\")\n",
    "    if actividad == \"caminar\":\n",
    "        print(\"Vamos a caminar\")\n",
    "    elif actividad == \"pilotar\":\n",
    "        print(\"A pilotar\")\n",
    "    else:\n",
    "        print(\"Lo siento no entiendo\")\n",
    "\n",
    "elif destino == \"Marte\":\n",
    "    actividad = input(\"Quieres caminar por Marte?\")\n",
    "    if actividad == \"caminar\":\n",
    "        print(\"A caminar por Marte\")\n",
    "    elif actividad == \"pilotar\":\n",
    "        print(\"A pilotar por Marte\")\n",
    "    else:\n",
    "        print(\"No entiendo tu actividad\")\n",
    "else:\n",
    "    print(\"No entiendo el destono\")\n",
    "    "
   ]
  }
 ],
 "metadata": {
  "kernelspec": {
   "display_name": "Python 3 (ipykernel)",
   "language": "python",
   "name": "python3"
  },
  "language_info": {
   "codemirror_mode": {
    "name": "ipython",
    "version": 3
   },
   "file_extension": ".py",
   "mimetype": "text/x-python",
   "name": "python",
   "nbconvert_exporter": "python",
   "pygments_lexer": "ipython3",
   "version": "3.11.7"
  }
 },
 "nbformat": 4,
 "nbformat_minor": 5
}
